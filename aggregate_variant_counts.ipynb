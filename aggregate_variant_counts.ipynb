{
 "cells": [
  {
   "cell_type": "markdown",
   "metadata": {},
   "source": [
    "# Aggregate variant counts for all samples\n",
    "Separate `Snakemake` rules count the observations of each variant in each sample from the Illumina barcode sequencing.\n",
    "This Python Jupyter notebook aggregates all of this counts, and then adds them to a codon variant table."
   ]
  },
  {
   "cell_type": "markdown",
   "metadata": {},
   "source": [
    "## Set up analysis\n",
    "### Import Python modules.\n",
    "Use [plotnine](https://plotnine.readthedocs.io/en/stable/) for ggplot2-like plotting.\n",
    "\n",
    "The analysis relies heavily on the Bloom lab's [dms_variants](https://jbloomlab.github.io/dms_variants) package:"
   ]
  },
  {
   "cell_type": "code",
   "execution_count": 1,
   "metadata": {},
   "outputs": [],
   "source": [
    "import glob\n",
    "import itertools\n",
    "import math\n",
    "import os\n",
    "import warnings\n",
    "\n",
    "import Bio.SeqIO\n",
    "\n",
    "import dms_variants.codonvarianttable\n",
    "from dms_variants.constants import CBPALETTE\n",
    "import dms_variants.utils\n",
    "import dms_variants.plotnine_themes\n",
    "\n",
    "from IPython.display import display, HTML\n",
    "\n",
    "import pandas as pd\n",
    "\n",
    "from plotnine import *\n",
    "\n",
    "import yaml"
   ]
  },
  {
   "cell_type": "markdown",
   "metadata": {},
   "source": [
    "Set [plotnine](https://plotnine.readthedocs.io/en/stable/) theme to the gray-grid one defined in `dms_variants`:"
   ]
  },
  {
   "cell_type": "code",
   "execution_count": 2,
   "metadata": {},
   "outputs": [],
   "source": [
    "theme_set(dms_variants.plotnine_themes.theme_graygrid())"
   ]
  },
  {
   "cell_type": "markdown",
   "metadata": {},
   "source": [
    "Versions of key software:"
   ]
  },
  {
   "cell_type": "code",
   "execution_count": 3,
   "metadata": {},
   "outputs": [
    {
     "name": "stdout",
     "output_type": "stream",
     "text": [
      "Using dms_variants version 0.8.5\n"
     ]
    }
   ],
   "source": [
    "print(f\"Using dms_variants version {dms_variants.__version__}\")"
   ]
  },
  {
   "cell_type": "markdown",
   "metadata": {},
   "source": [
    "Ignore warnings that clutter output:"
   ]
  },
  {
   "cell_type": "code",
   "execution_count": 4,
   "metadata": {},
   "outputs": [],
   "source": [
    "warnings.simplefilter('ignore')"
   ]
  },
  {
   "cell_type": "markdown",
   "metadata": {},
   "source": [
    "Read the configuration file:"
   ]
  },
  {
   "cell_type": "code",
   "execution_count": 5,
   "metadata": {},
   "outputs": [],
   "source": [
    "with open('config.yaml') as f:\n",
    "    config = yaml.safe_load(f)"
   ]
  },
  {
   "cell_type": "markdown",
   "metadata": {},
   "source": [
    "Make output directory if needed:"
   ]
  },
  {
   "cell_type": "code",
   "execution_count": 6,
   "metadata": {},
   "outputs": [],
   "source": [
    "os.makedirs(config['counts_dir'], exist_ok=True)"
   ]
  },
  {
   "cell_type": "markdown",
   "metadata": {},
   "source": [
    "## Initialize codon variant table\n",
    "Initialize the [CodonVariantTable](https://jbloomlab.github.io/dms_variants/dms_variants.codonvarianttable.html#dms_variants.codonvarianttable.CodonVariantTable) using the wildtype gene sequence and the CSV file with the table of variants:"
   ]
  },
  {
   "cell_type": "code",
   "execution_count": 7,
   "metadata": {},
   "outputs": [
    {
     "name": "stdout",
     "output_type": "stream",
     "text": [
      "Read sequence of 603 nt for SARS-CoV-2 from data/wildtype_sequence.fasta\n",
      "Initializing CodonVariantTable from gene sequence and results/prior_DMS_data/codon_variant_table.csv\n"
     ]
    }
   ],
   "source": [
    "wt_seqrecord = Bio.SeqIO.read(config['wildtype_sequence'], 'fasta')\n",
    "geneseq = str(wt_seqrecord.seq)\n",
    "primary_target = wt_seqrecord.name\n",
    "print(f\"Read sequence of {len(geneseq)} nt for {primary_target} from {config['wildtype_sequence']}\")\n",
    "      \n",
    "print(f\"Initializing CodonVariantTable from gene sequence and {config['codon_variant_table']}\")\n",
    "      \n",
    "variants = dms_variants.codonvarianttable.CodonVariantTable(\n",
    "                geneseq=geneseq,\n",
    "                barcode_variant_file=config['codon_variant_table'],\n",
    "                substitutions_are_codon=True,\n",
    "                substitutions_col='codon_substitutions',\n",
    "                primary_target=primary_target)"
   ]
  },
  {
   "cell_type": "markdown",
   "metadata": {},
   "source": [
    "## Read barcode counts / fates\n",
    "Read data frame with list of all samples (barcode runs):"
   ]
  },
  {
   "cell_type": "code",
   "execution_count": 8,
   "metadata": {},
   "outputs": [
    {
     "name": "stdout",
     "output_type": "stream",
     "text": [
      "Reading list of barcode runs from data/barcode_runs.csv\n"
     ]
    },
    {
     "data": {
      "text/html": [
       "<table border=\"1\" class=\"dataframe\">\n",
       "  <thead>\n",
       "    <tr style=\"text-align: right;\">\n",
       "      <th>library</th>\n",
       "      <th>sample</th>\n",
       "      <th>date</th>\n",
       "      <th>experiment</th>\n",
       "      <th>antibody</th>\n",
       "      <th>concentration</th>\n",
       "      <th>concentration_units</th>\n",
       "      <th>group</th>\n",
       "      <th>selection</th>\n",
       "      <th>frac_escape</th>\n",
       "      <th>cells_sorted</th>\n",
       "      <th>sample_lib</th>\n",
       "      <th>counts_file</th>\n",
       "      <th>fates_file</th>\n",
       "    </tr>\n",
       "  </thead>\n",
       "  <tbody>\n",
       "    <tr>\n",
       "      <td>lib1</td>\n",
       "      <td>expt_24-33-none-0-reference</td>\n",
       "      <td>200904</td>\n",
       "      <td>expt_24-33</td>\n",
       "      <td>none</td>\n",
       "      <td>0</td>\n",
       "      <td>ng_per_mL</td>\n",
       "      <td>clinical_serum</td>\n",
       "      <td>reference</td>\n",
       "      <td>NaN</td>\n",
       "      <td>160000000.0</td>\n",
       "      <td>expt_24-33-none-0-reference_lib1</td>\n",
       "      <td>results/counts/expt_24-33-none-0-reference_lib1_counts.csv</td>\n",
       "      <td>results/counts/expt_24-33-none-0-reference_lib1_fates.csv</td>\n",
       "    </tr>\n",
       "    <tr>\n",
       "      <td>lib2</td>\n",
       "      <td>expt_24-33-none-0-reference</td>\n",
       "      <td>200904</td>\n",
       "      <td>expt_24-33</td>\n",
       "      <td>none</td>\n",
       "      <td>0</td>\n",
       "      <td>ng_per_mL</td>\n",
       "      <td>clinical_serum</td>\n",
       "      <td>reference</td>\n",
       "      <td>NaN</td>\n",
       "      <td>160000000.0</td>\n",
       "      <td>expt_24-33-none-0-reference_lib2</td>\n",
       "      <td>results/counts/expt_24-33-none-0-reference_lib2_counts.csv</td>\n",
       "      <td>results/counts/expt_24-33-none-0-reference_lib2_fates.csv</td>\n",
       "    </tr>\n",
       "    <tr>\n",
       "      <td>lib1</td>\n",
       "      <td>expt_65-67-none-0-reference</td>\n",
       "      <td>201102</td>\n",
       "      <td>expt_65-67</td>\n",
       "      <td>none</td>\n",
       "      <td>0</td>\n",
       "      <td>ng_per_mL</td>\n",
       "      <td>Crowe</td>\n",
       "      <td>reference</td>\n",
       "      <td>NaN</td>\n",
       "      <td>NaN</td>\n",
       "      <td>expt_65-67-none-0-reference_lib1</td>\n",
       "      <td>results/counts/expt_65-67-none-0-reference_lib1_counts.csv</td>\n",
       "      <td>results/counts/expt_65-67-none-0-reference_lib1_fates.csv</td>\n",
       "    </tr>\n",
       "    <tr>\n",
       "      <td>lib2</td>\n",
       "      <td>expt_65-67-none-0-reference</td>\n",
       "      <td>201102</td>\n",
       "      <td>expt_65-67</td>\n",
       "      <td>none</td>\n",
       "      <td>0</td>\n",
       "      <td>ng_per_mL</td>\n",
       "      <td>Crowe</td>\n",
       "      <td>reference</td>\n",
       "      <td>NaN</td>\n",
       "      <td>NaN</td>\n",
       "      <td>expt_65-67-none-0-reference_lib2</td>\n",
       "      <td>results/counts/expt_65-67-none-0-reference_lib2_counts.csv</td>\n",
       "      <td>results/counts/expt_65-67-none-0-reference_lib2_fates.csv</td>\n",
       "    </tr>\n",
       "    <tr>\n",
       "      <td>lib1</td>\n",
       "      <td>expt_29-2196+2130-400-escape</td>\n",
       "      <td>200904</td>\n",
       "      <td>expt_29</td>\n",
       "      <td>2196+2130</td>\n",
       "      <td>400</td>\n",
       "      <td>ng_per_mL</td>\n",
       "      <td>clinical_serum</td>\n",
       "      <td>escape</td>\n",
       "      <td>0.141</td>\n",
       "      <td>1523536.0</td>\n",
       "      <td>expt_29-2196+2130-400-escape_lib1</td>\n",
       "      <td>results/counts/expt_29-2196+2130-400-escape_lib1_counts.csv</td>\n",
       "      <td>results/counts/expt_29-2196+2130-400-escape_lib1_fates.csv</td>\n",
       "    </tr>\n",
       "    <tr>\n",
       "      <td>lib2</td>\n",
       "      <td>expt_29-2196+2130-400-escape</td>\n",
       "      <td>200904</td>\n",
       "      <td>expt_29</td>\n",
       "      <td>2196+2130</td>\n",
       "      <td>400</td>\n",
       "      <td>ng_per_mL</td>\n",
       "      <td>clinical_serum</td>\n",
       "      <td>escape</td>\n",
       "      <td>0.162</td>\n",
       "      <td>1382411.0</td>\n",
       "      <td>expt_29-2196+2130-400-escape_lib2</td>\n",
       "      <td>results/counts/expt_29-2196+2130-400-escape_lib2_counts.csv</td>\n",
       "      <td>results/counts/expt_29-2196+2130-400-escape_lib2_fates.csv</td>\n",
       "    </tr>\n",
       "    <tr>\n",
       "      <td>lib1</td>\n",
       "      <td>expt_66-COV2-2130-400-escape</td>\n",
       "      <td>201102</td>\n",
       "      <td>expt_66</td>\n",
       "      <td>COV2-2130</td>\n",
       "      <td>400</td>\n",
       "      <td>ng_per_mL</td>\n",
       "      <td>Crowe</td>\n",
       "      <td>escape</td>\n",
       "      <td>0.135</td>\n",
       "      <td>1933517.0</td>\n",
       "      <td>expt_66-COV2-2130-400-escape_lib1</td>\n",
       "      <td>results/counts/expt_66-COV2-2130-400-escape_lib1_counts.csv</td>\n",
       "      <td>results/counts/expt_66-COV2-2130-400-escape_lib1_fates.csv</td>\n",
       "    </tr>\n",
       "    <tr>\n",
       "      <td>lib2</td>\n",
       "      <td>expt_66-COV2-2130-400-escape</td>\n",
       "      <td>201102</td>\n",
       "      <td>expt_66</td>\n",
       "      <td>COV2-2130</td>\n",
       "      <td>400</td>\n",
       "      <td>ng_per_mL</td>\n",
       "      <td>Crowe</td>\n",
       "      <td>escape</td>\n",
       "      <td>0.134</td>\n",
       "      <td>2145467.0</td>\n",
       "      <td>expt_66-COV2-2130-400-escape_lib2</td>\n",
       "      <td>results/counts/expt_66-COV2-2130-400-escape_lib2_counts.csv</td>\n",
       "      <td>results/counts/expt_66-COV2-2130-400-escape_lib2_fates.csv</td>\n",
       "    </tr>\n",
       "    <tr>\n",
       "      <td>lib1</td>\n",
       "      <td>expt_65-COV2-2196-400-escape</td>\n",
       "      <td>201102</td>\n",
       "      <td>expt_65</td>\n",
       "      <td>COV2-2196</td>\n",
       "      <td>400</td>\n",
       "      <td>ng_per_mL</td>\n",
       "      <td>Crowe</td>\n",
       "      <td>escape</td>\n",
       "      <td>0.150</td>\n",
       "      <td>2323887.0</td>\n",
       "      <td>expt_65-COV2-2196-400-escape_lib1</td>\n",
       "      <td>results/counts/expt_65-COV2-2196-400-escape_lib1_counts.csv</td>\n",
       "      <td>results/counts/expt_65-COV2-2196-400-escape_lib1_fates.csv</td>\n",
       "    </tr>\n",
       "    <tr>\n",
       "      <td>lib2</td>\n",
       "      <td>expt_65-COV2-2196-400-escape</td>\n",
       "      <td>201102</td>\n",
       "      <td>expt_65</td>\n",
       "      <td>COV2-2196</td>\n",
       "      <td>400</td>\n",
       "      <td>ng_per_mL</td>\n",
       "      <td>Crowe</td>\n",
       "      <td>escape</td>\n",
       "      <td>0.156</td>\n",
       "      <td>1828346.0</td>\n",
       "      <td>expt_65-COV2-2196-400-escape_lib2</td>\n",
       "      <td>results/counts/expt_65-COV2-2196-400-escape_lib2_counts.csv</td>\n",
       "      <td>results/counts/expt_65-COV2-2196-400-escape_lib2_fates.csv</td>\n",
       "    </tr>\n",
       "  </tbody>\n",
       "</table>"
      ],
      "text/plain": [
       "<IPython.core.display.HTML object>"
      ]
     },
     "metadata": {},
     "output_type": "display_data"
    }
   ],
   "source": [
    "print(f\"Reading list of barcode runs from {config['barcode_runs']}\")\n",
    "\n",
    "barcode_runs = (pd.read_csv(config['barcode_runs'])\n",
    "                .assign(sample_lib=lambda x: x['sample'] + '_' + x['library'],\n",
    "                        counts_file=lambda x: config['counts_dir'] + '/' + x['sample_lib'] + '_counts.csv',\n",
    "                        fates_file=lambda x: config['counts_dir'] + '/' + x['sample_lib'] + '_fates.csv',\n",
    "                        )\n",
    "                .drop(columns='R1')  # don't need this column, and very large\n",
    "                )\n",
    "\n",
    "assert all(map(os.path.isfile, barcode_runs['counts_file'])), 'missing some counts files'\n",
    "assert all(map(os.path.isfile, barcode_runs['fates_file'])), 'missing some fates files'\n",
    "\n",
    "display(HTML(barcode_runs.to_html(index=False)))"
   ]
  },
  {
   "cell_type": "markdown",
   "metadata": {},
   "source": [
    "Confirm sample / library combinations unique:"
   ]
  },
  {
   "cell_type": "code",
   "execution_count": 9,
   "metadata": {},
   "outputs": [],
   "source": [
    "assert len(barcode_runs) == len(barcode_runs.groupby(['sample', 'library']))"
   ]
  },
  {
   "cell_type": "markdown",
   "metadata": {},
   "source": [
    "Make sure the the libraries for which we have barcode runs are all in our variant table:"
   ]
  },
  {
   "cell_type": "code",
   "execution_count": 10,
   "metadata": {},
   "outputs": [],
   "source": [
    "unknown_libs = set(barcode_runs['library']) - set(variants.libraries)\n",
    "if unknown_libs:\n",
    "    raise ValueError(f\"Libraries with barcode runs not in variant table: {unknown_libs}\")"
   ]
  },
  {
   "cell_type": "markdown",
   "metadata": {},
   "source": [
    "Now concatenate the barcode counts and fates for each sample:"
   ]
  },
  {
   "cell_type": "code",
   "execution_count": 11,
   "metadata": {},
   "outputs": [
    {
     "name": "stdout",
     "output_type": "stream",
     "text": [
      "First few lines of counts data frame:\n"
     ]
    },
    {
     "data": {
      "text/html": [
       "<table border=\"1\" class=\"dataframe\">\n",
       "  <thead>\n",
       "    <tr style=\"text-align: right;\">\n",
       "      <th>barcode</th>\n",
       "      <th>count</th>\n",
       "      <th>library</th>\n",
       "      <th>sample</th>\n",
       "    </tr>\n",
       "  </thead>\n",
       "  <tbody>\n",
       "    <tr>\n",
       "      <td>TTCCAAAATATTGTCA</td>\n",
       "      <td>263040</td>\n",
       "      <td>lib1</td>\n",
       "      <td>expt_24-33-none-0-reference</td>\n",
       "    </tr>\n",
       "    <tr>\n",
       "      <td>TAGTAACAATGCGGTA</td>\n",
       "      <td>174279</td>\n",
       "      <td>lib1</td>\n",
       "      <td>expt_24-33-none-0-reference</td>\n",
       "    </tr>\n",
       "    <tr>\n",
       "      <td>TTAATTAGTATCAGGT</td>\n",
       "      <td>60387</td>\n",
       "      <td>lib1</td>\n",
       "      <td>expt_24-33-none-0-reference</td>\n",
       "    </tr>\n",
       "    <tr>\n",
       "      <td>TTAGATGAAGCCAGTA</td>\n",
       "      <td>51224</td>\n",
       "      <td>lib1</td>\n",
       "      <td>expt_24-33-none-0-reference</td>\n",
       "    </tr>\n",
       "    <tr>\n",
       "      <td>TAATATGCAAGAGCCA</td>\n",
       "      <td>48555</td>\n",
       "      <td>lib1</td>\n",
       "      <td>expt_24-33-none-0-reference</td>\n",
       "    </tr>\n",
       "  </tbody>\n",
       "</table>"
      ],
      "text/plain": [
       "<IPython.core.display.HTML object>"
      ]
     },
     "metadata": {},
     "output_type": "display_data"
    },
    {
     "name": "stdout",
     "output_type": "stream",
     "text": [
      "First few lines of fates data frame:\n"
     ]
    },
    {
     "data": {
      "text/html": [
       "<table border=\"1\" class=\"dataframe\">\n",
       "  <thead>\n",
       "    <tr style=\"text-align: right;\">\n",
       "      <th>fate</th>\n",
       "      <th>count</th>\n",
       "      <th>library</th>\n",
       "      <th>sample</th>\n",
       "    </tr>\n",
       "  </thead>\n",
       "  <tbody>\n",
       "    <tr>\n",
       "      <td>valid barcode</td>\n",
       "      <td>53957723</td>\n",
       "      <td>lib1</td>\n",
       "      <td>expt_24-33-none-0-reference</td>\n",
       "    </tr>\n",
       "    <tr>\n",
       "      <td>invalid barcode</td>\n",
       "      <td>5653429</td>\n",
       "      <td>lib1</td>\n",
       "      <td>expt_24-33-none-0-reference</td>\n",
       "    </tr>\n",
       "    <tr>\n",
       "      <td>low quality barcode</td>\n",
       "      <td>5031936</td>\n",
       "      <td>lib1</td>\n",
       "      <td>expt_24-33-none-0-reference</td>\n",
       "    </tr>\n",
       "    <tr>\n",
       "      <td>failed chastity filter</td>\n",
       "      <td>3009381</td>\n",
       "      <td>lib1</td>\n",
       "      <td>expt_24-33-none-0-reference</td>\n",
       "    </tr>\n",
       "    <tr>\n",
       "      <td>unparseable barcode</td>\n",
       "      <td>1204055</td>\n",
       "      <td>lib1</td>\n",
       "      <td>expt_24-33-none-0-reference</td>\n",
       "    </tr>\n",
       "  </tbody>\n",
       "</table>"
      ],
      "text/plain": [
       "<IPython.core.display.HTML object>"
      ]
     },
     "metadata": {},
     "output_type": "display_data"
    }
   ],
   "source": [
    "counts = pd.concat([pd.read_csv(f) for f in barcode_runs['counts_file']],\n",
    "                   sort=False,\n",
    "                   ignore_index=True)\n",
    "\n",
    "print('First few lines of counts data frame:')\n",
    "display(HTML(counts.head().to_html(index=False)))\n",
    "\n",
    "fates = pd.concat([pd.read_csv(f) for f in barcode_runs['fates_file']],\n",
    "                  sort=False,\n",
    "                  ignore_index=True)\n",
    "\n",
    "print('First few lines of fates data frame:')\n",
    "display(HTML(fates.head().to_html(index=False)))"
   ]
  },
  {
   "cell_type": "markdown",
   "metadata": {},
   "source": [
    "## Examine fates of parsed barcodes\n",
    "First, we'll analyze the \"fates\" of the parsed barcodes.\n",
    "These fates represent what happened to each Illumina read we parsed:\n",
    " - Did the barcode read fail the Illumina chastity filter?\n",
    " - Was the barcode *unparseable* (i.e., the read didn't appear to be a valid barcode based on flanking regions)?\n",
    " - Was the barcode sequence too *low quality* based on the Illumina quality scores?\n",
    " - Was the barcode parseable but *invalid* (i.e., not in our list of variant-associated barcodes in the codon variant table)?\n",
    " - Was the barcode *valid*, and so will be added to variant counts.\n",
    " \n",
    "First, we just write a CSV file with all the barcode fates:"
   ]
  },
  {
   "cell_type": "code",
   "execution_count": 12,
   "metadata": {},
   "outputs": [
    {
     "name": "stdout",
     "output_type": "stream",
     "text": [
      "Writing barcode fates to results/counts/barcode_fates.csv\n"
     ]
    }
   ],
   "source": [
    "fatesfile = os.path.join(config['counts_dir'], 'barcode_fates.csv')\n",
    "print(f\"Writing barcode fates to {fatesfile}\")\n",
    "fates.to_csv(fatesfile, index=False)"
   ]
  },
  {
   "cell_type": "markdown",
   "metadata": {},
   "source": [
    "Next, we tabulate the barcode fates in wide format:"
   ]
  },
  {
   "cell_type": "code",
   "execution_count": 13,
   "metadata": {},
   "outputs": [
    {
     "data": {
      "text/html": [
       "<table border=\"1\" class=\"dataframe\">\n",
       "  <thead>\n",
       "    <tr style=\"text-align: right;\">\n",
       "      <th></th>\n",
       "      <th>fate</th>\n",
       "      <th>failed chastity filter</th>\n",
       "      <th>invalid barcode</th>\n",
       "      <th>low quality barcode</th>\n",
       "      <th>unparseable barcode</th>\n",
       "      <th>valid barcode</th>\n",
       "    </tr>\n",
       "    <tr>\n",
       "      <th>sample</th>\n",
       "      <th>library</th>\n",
       "      <th></th>\n",
       "      <th></th>\n",
       "      <th></th>\n",
       "      <th></th>\n",
       "      <th></th>\n",
       "    </tr>\n",
       "  </thead>\n",
       "  <tbody>\n",
       "    <tr>\n",
       "      <th rowspan=\"2\" valign=\"top\">expt_24-33-none-0-reference</th>\n",
       "      <th>lib1</th>\n",
       "      <td>3.0e+06</td>\n",
       "      <td>5.7e+06</td>\n",
       "      <td>5.0e+06</td>\n",
       "      <td>1.2e+06</td>\n",
       "      <td>5.4e+07</td>\n",
       "    </tr>\n",
       "    <tr>\n",
       "      <th>lib2</th>\n",
       "      <td>3.2e+06</td>\n",
       "      <td>5.5e+06</td>\n",
       "      <td>5.3e+06</td>\n",
       "      <td>1.2e+06</td>\n",
       "      <td>5.8e+07</td>\n",
       "    </tr>\n",
       "    <tr>\n",
       "      <th rowspan=\"2\" valign=\"top\">expt_29-2196+2130-400-escape</th>\n",
       "      <th>lib1</th>\n",
       "      <td>0.0e+00</td>\n",
       "      <td>6.8e+05</td>\n",
       "      <td>4.7e+05</td>\n",
       "      <td>1.3e+05</td>\n",
       "      <td>5.7e+06</td>\n",
       "    </tr>\n",
       "    <tr>\n",
       "      <th>lib2</th>\n",
       "      <td>0.0e+00</td>\n",
       "      <td>6.9e+05</td>\n",
       "      <td>4.8e+05</td>\n",
       "      <td>2.0e+05</td>\n",
       "      <td>6.2e+06</td>\n",
       "    </tr>\n",
       "    <tr>\n",
       "      <th rowspan=\"2\" valign=\"top\">expt_65-67-none-0-reference</th>\n",
       "      <th>lib1</th>\n",
       "      <td>6.1e+05</td>\n",
       "      <td>2.4e+06</td>\n",
       "      <td>1.4e+06</td>\n",
       "      <td>4.6e+05</td>\n",
       "      <td>2.3e+07</td>\n",
       "    </tr>\n",
       "    <tr>\n",
       "      <th>lib2</th>\n",
       "      <td>6.6e+05</td>\n",
       "      <td>2.4e+06</td>\n",
       "      <td>1.5e+06</td>\n",
       "      <td>5.1e+05</td>\n",
       "      <td>2.5e+07</td>\n",
       "    </tr>\n",
       "    <tr>\n",
       "      <th rowspan=\"2\" valign=\"top\">expt_65-COV2-2196-400-escape</th>\n",
       "      <th>lib1</th>\n",
       "      <td>1.9e+05</td>\n",
       "      <td>7.9e+05</td>\n",
       "      <td>4.6e+05</td>\n",
       "      <td>1.4e+05</td>\n",
       "      <td>7.3e+06</td>\n",
       "    </tr>\n",
       "    <tr>\n",
       "      <th>lib2</th>\n",
       "      <td>1.4e+05</td>\n",
       "      <td>5.2e+05</td>\n",
       "      <td>3.2e+05</td>\n",
       "      <td>1.0e+05</td>\n",
       "      <td>5.5e+06</td>\n",
       "    </tr>\n",
       "    <tr>\n",
       "      <th rowspan=\"2\" valign=\"top\">expt_66-COV2-2130-400-escape</th>\n",
       "      <th>lib1</th>\n",
       "      <td>1.6e+05</td>\n",
       "      <td>6.8e+05</td>\n",
       "      <td>3.7e+05</td>\n",
       "      <td>1.2e+05</td>\n",
       "      <td>5.9e+06</td>\n",
       "    </tr>\n",
       "    <tr>\n",
       "      <th>lib2</th>\n",
       "      <td>1.3e+05</td>\n",
       "      <td>4.5e+05</td>\n",
       "      <td>2.9e+05</td>\n",
       "      <td>1.1e+05</td>\n",
       "      <td>4.9e+06</td>\n",
       "    </tr>\n",
       "  </tbody>\n",
       "</table>"
      ],
      "text/plain": [
       "<IPython.core.display.HTML object>"
      ]
     },
     "metadata": {},
     "output_type": "display_data"
    }
   ],
   "source": [
    "display(HTML(fates\n",
    "             .pivot_table(columns='fate',\n",
    "                          values='count',\n",
    "                          index=['sample', 'library'])\n",
    "             .applymap('{:.1e}'.format)  # scientific notation\n",
    "             .to_html()\n",
    "             ))"
   ]
  },
  {
   "cell_type": "markdown",
   "metadata": {},
   "source": [
    "Now we plot the barcode-read fates for each library / sample, showing the bars for valid barcodes in orange and the others in gray.\n",
    "We see that the largest fraction of barcode reads correspond to valid barcodes, and most of the others are invalid barcodes (probably because the map to variants that aren't present in our variant table since we didn't associate all variants with barcodes). The exception to this is lib2 Titeseq_03_bin3; the PCR for this sample in the original sequencing run failed, so we followed it up with a single MiSeq lane. We did not filter out the PhiX reads from this data before parsing, so these PhiX reads will deflate the fraction of valid barcode reads as expected, but does not indicate any problems."
   ]
  },
  {
   "cell_type": "code",
   "execution_count": 14,
   "metadata": {},
   "outputs": [
    {
     "data": {
      "image/png": "[encoded data removed]",
      "text/plain": [
       "<Figure size 1300x600 with 10 Axes>"
      ]
     },
     "metadata": {
      "needs_background": "light"
     },
     "output_type": "display_data"
    }
   ],
   "source": [
    "ncol = 4\n",
    "nfacets = len(fates.groupby(['sample', 'library']))\n",
    "\n",
    "barcode_fate_plot = (\n",
    "    ggplot(\n",
    "        fates\n",
    "        .assign(sample=lambda x: pd.Categorical(x['sample'],\n",
    "                                                x['sample'].unique(),\n",
    "                                                ordered=True),\n",
    "                fate=lambda x: pd.Categorical(x['fate'],\n",
    "                                              x['fate'].unique(),\n",
    "                                              ordered=True),\n",
    "                is_valid=lambda x: x['fate'] == 'valid barcode'\n",
    "                ), \n",
    "        aes('fate', 'count', fill='is_valid')) +\n",
    "    geom_bar(stat='identity') +\n",
    "    facet_wrap('~ sample + library', ncol=ncol) +\n",
    "    scale_fill_manual(CBPALETTE, guide=False) +\n",
    "    theme(figure_size=(3.25 * ncol, 2 * math.ceil(nfacets / ncol)),\n",
    "          axis_text_x=element_text(angle=90),\n",
    "          panel_grid_major_x=element_blank()\n",
    "          ) +\n",
    "    scale_y_continuous(labels=dms_variants.utils.latex_sci_not,\n",
    "                       name='number of reads')\n",
    "    )\n",
    "\n",
    "_ = barcode_fate_plot.draw()"
   ]
  },
  {
   "cell_type": "markdown",
   "metadata": {},
   "source": [
    "## Add barcode counts to variant table\n",
    "Now we use the [CodonVariantTable.add_sample_counts_df](https://jbloomlab.github.io/dms_variants/dms_variants.codonvarianttable.html#dms_variants.codonvarianttable.CodonVariantTable.add_sample_counts_df) method to add the barcode counts to the variant table:"
   ]
  },
  {
   "cell_type": "code",
   "execution_count": 15,
   "metadata": {},
   "outputs": [],
   "source": [
    "variants.add_sample_counts_df(counts)"
   ]
  },
  {
   "cell_type": "markdown",
   "metadata": {},
   "source": [
    "The variant table now has a `variant_count_df` attribute that gives a data frame of all the variant counts.\n",
    "Here are the first few lines:"
   ]
  },
  {
   "cell_type": "code",
   "execution_count": 16,
   "metadata": {},
   "outputs": [
    {
     "data": {
      "text/html": [
       "<table border=\"1\" class=\"dataframe\">\n",
       "  <thead>\n",
       "    <tr style=\"text-align: right;\">\n",
       "      <th>target</th>\n",
       "      <th>library</th>\n",
       "      <th>sample</th>\n",
       "      <th>barcode</th>\n",
       "      <th>count</th>\n",
       "      <th>variant_call_support</th>\n",
       "      <th>codon_substitutions</th>\n",
       "      <th>aa_substitutions</th>\n",
       "      <th>n_codon_substitutions</th>\n",
       "      <th>n_aa_substitutions</th>\n",
       "    </tr>\n",
       "  </thead>\n",
       "  <tbody>\n",
       "    <tr>\n",
       "      <td>BM48-31</td>\n",
       "      <td>lib1</td>\n",
       "      <td>expt_24-33-none-0-reference</td>\n",
       "      <td>TCCAAGGAAATTGTGA</td>\n",
       "      <td>312</td>\n",
       "      <td>3</td>\n",
       "      <td>BM48-31</td>\n",
       "      <td>BM48-31</td>\n",
       "      <td>0</td>\n",
       "      <td>0</td>\n",
       "    </tr>\n",
       "    <tr>\n",
       "      <td>BM48-31</td>\n",
       "      <td>lib1</td>\n",
       "      <td>expt_24-33-none-0-reference</td>\n",
       "      <td>CGATGAATTCAGCTCT</td>\n",
       "      <td>307</td>\n",
       "      <td>12</td>\n",
       "      <td>BM48-31</td>\n",
       "      <td>BM48-31</td>\n",
       "      <td>0</td>\n",
       "      <td>0</td>\n",
       "    </tr>\n",
       "    <tr>\n",
       "      <td>BM48-31</td>\n",
       "      <td>lib1</td>\n",
       "      <td>expt_24-33-none-0-reference</td>\n",
       "      <td>TATCACAACGTAGACC</td>\n",
       "      <td>201</td>\n",
       "      <td>6</td>\n",
       "      <td>BM48-31</td>\n",
       "      <td>BM48-31</td>\n",
       "      <td>0</td>\n",
       "      <td>0</td>\n",
       "    </tr>\n",
       "    <tr>\n",
       "      <td>BM48-31</td>\n",
       "      <td>lib1</td>\n",
       "      <td>expt_24-33-none-0-reference</td>\n",
       "      <td>TACCTATTCCCATAAA</td>\n",
       "      <td>147</td>\n",
       "      <td>2</td>\n",
       "      <td>BM48-31</td>\n",
       "      <td>BM48-31</td>\n",
       "      <td>0</td>\n",
       "      <td>0</td>\n",
       "    </tr>\n",
       "    <tr>\n",
       "      <td>BM48-31</td>\n",
       "      <td>lib1</td>\n",
       "      <td>expt_24-33-none-0-reference</td>\n",
       "      <td>TTACAAATAACACCAT</td>\n",
       "      <td>143</td>\n",
       "      <td>2</td>\n",
       "      <td>BM48-31</td>\n",
       "      <td>BM48-31</td>\n",
       "      <td>0</td>\n",
       "      <td>0</td>\n",
       "    </tr>\n",
       "  </tbody>\n",
       "</table>"
      ],
      "text/plain": [
       "<IPython.core.display.HTML object>"
      ]
     },
     "metadata": {},
     "output_type": "display_data"
    }
   ],
   "source": [
    "display(HTML(variants.variant_count_df.head().to_html(index=False)))"
   ]
  },
  {
   "cell_type": "markdown",
   "metadata": {},
   "source": [
    "Write the variant counts data frame to a CSV file.\n",
    "It can then be used to re-initialize a [CodonVariantTable](https://jbloomlab.github.io/dms_variants/dms_variants.codonvarianttable.html#dms_variants.codonvarianttable.CodonVariantTable) via its [from_variant_count_df](https://jbloomlab.github.io/dms_variants/dms_variants.codonvarianttable.html#dms_variants.codonvarianttable.CodonVariantTable.from_variant_count_df) method:"
   ]
  },
  {
   "cell_type": "code",
   "execution_count": 17,
   "metadata": {},
   "outputs": [
    {
     "name": "stdout",
     "output_type": "stream",
     "text": [
      "Writing variant counts to results/counts/variant_counts.csv\n"
     ]
    }
   ],
   "source": [
    "print(f\"Writing variant counts to {config['variant_counts']}\")\n",
    "variants.variant_count_df.to_csv(config['variant_counts'], index=False)"
   ]
  },
  {
   "cell_type": "markdown",
   "metadata": {},
   "source": [
    "The [CodonVariantTable](https://jbloomlab.github.io/dms_variants/dms_variants.codonvarianttable.html#dms_variants.codonvarianttable.CodonVariantTable) has lots of nice functions that can be used to analyze the counts it contains.\n",
    "However, we do that in the next notebook so we don't have to re-run this entire (rather computationally intensive) notebook every time we want to analyze a new aspect of the counts."
   ]
  }
 ],
 "metadata": {
  "language_info": {
   "name": "python"
  }
 },
 "nbformat": 4,
 "nbformat_minor": 4
}
